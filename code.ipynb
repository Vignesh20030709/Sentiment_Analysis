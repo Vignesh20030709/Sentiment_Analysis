import pandas as pd
import numpy as np
from sklearn.preprocessing import LabelEncoder
import nltk
import re
import matplotlib.pyplot as plt
from nltk.corpus import stopwords
nltk.download('stopwords')
from nltk.stem import PorterStemmer
from sklearn.feature_extraction.text import CountVectorizer
from sklearn.model_selection import train_test_split
from sklearn.naive_bayes import MultinomialNB
from sklearn.metrics import accuracy_score , classification_report , confusion_matrix
import pickle
import seaborn as sns

df = pd.read_csv('imdb_dataset.csv')

df.head()

df.shape

df.isnull().sum()

df.describe()

df.info()

df['sentiment'].unique()

df['sentiment'].value_counts()

sns.countplot(df['sentiment'])

sentiment_counts = df.groupby(['sentiment']).size()
print(sentiment_counts)
fig = plt.figure(figsize=(4,4), dpi=100)
ax = plt.subplot(111)
sentiment_counts.plot.pie(ax=ax, autopct='%1.1f%%', startangle=270, fontsize=10, label="")

label = LabelEncoder()
df['sentiment'] = label.fit_transform(df['sentiment'])

df.head()

x = df['review']
y = df['sentiment']

ps = PorterStemmer()
corpus = []
for i in range(len(x)):
    print(i)
    review = re.sub("[^a-zA-Z]"," ", x[i])
    review = review.lower()
    review = review.split()
    review = [ps.stem(word) for word in review if word not in set(stopwords.words('english'))]
    review = " ".join(review)
    corpus.append(review)

corpus

from sklearn.feature_extraction.text import TfidfVectorizer
cv = TfidfVectorizer(max_features=5000)
X = cv.fit_transform(corpus).toarray()

X.shape

X_train , X_test , Y_train , Y_test = train_test_split(X ,y , test_size=0.2 , random_state=101)

X_train.shape , X_test.shape , Y_train.shape , Y_test.shape

mnb = MultinomialNB()
mnb.fit(X_train , Y_train)

pred = mnb.predict(X_test)

print(accuracy_score(Y_test , pred))
print(classification_report(Y_test , pred))

pd.DataFrame(np.c_[Y_test , pred] , columns=["Actual" , "Predicted"])

pickle.dump(cv , open("count-Vectorizer.pkl" , "wb"))
pickle.dump(mnb , open("Movies_Review_Classification.pkl" , "wb"))  # 1:pos , 0:Neg

save_cv = pickle.load(open('count-Vectorizer.pkl','rb'))
model = pickle.load(open('Movies_Review_Classification.pkl','rb'))

def test_model(sentence):
  sen = save_cv.transform([sentence]).toarray()
  res = model.predict(sen)[0]
  if res == 1:
    return 'Positive Review'
  else:
    return 'Negative Review'

sen = 'This is the wonderful movie of my life'
res = test_model(sen)
print(res)

sen = 'This is the worst movie, I have ever seen in my life'
res = test_model(sen)
print(res)
